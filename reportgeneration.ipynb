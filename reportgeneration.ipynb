{
 "cells": [
  {
   "cell_type": "code",
   "execution_count": 86,
   "id": "29181d65-adbb-4230-b8a1-abb72209360a",
   "metadata": {},
   "outputs": [],
   "source": [
    "\n",
    "import pandas as pd\n",
    "import mysql.connector\n",
    "import datetime"
   ]
  },
  {
   "cell_type": "code",
   "execution_count": 49,
   "id": "29fb82d7-b7e1-4d5e-8621-92b63a6e212c",
   "metadata": {},
   "outputs": [],
   "source": [
    "host = 'localhost'\n",
    "user = 'root'\n",
    "password = ''\n",
    "database = 'facultyleavedb'"
   ]
  },
  {
   "cell_type": "code",
   "execution_count": 50,
   "id": "f916c5c5-e483-4715-b014-228008c2ad71",
   "metadata": {},
   "outputs": [],
   "source": [
    "conn = mysql.connector.connect(host=host, user=user, password=password, database=database)\n",
    "cursor = conn.cursor()"
   ]
  },
  {
   "cell_type": "code",
   "execution_count": 51,
   "id": "31c74417-674b-4337-b5f3-ab3634625e46",
   "metadata": {},
   "outputs": [],
   "source": [
    "query = \"SELECT * FROM `staff` WHERE id=22007;\"\n",
    "cursor.execute(query)\n",
    "data = cursor.fetchall()\n"
   ]
  },
  {
   "cell_type": "code",
   "execution_count": 55,
   "id": "b68b028e-b056-44ac-9482-7c4a9d5a6052",
   "metadata": {},
   "outputs": [
    {
     "data": {
      "text/plain": [
       "(22007, 'Dr. C. Akila', 'CSE', datetime.date(2009, 8, 31))"
      ]
     },
     "execution_count": 55,
     "metadata": {},
     "output_type": "execute_result"
    }
   ],
   "source": [
    "data[0]"
   ]
  },
  {
   "cell_type": "code",
   "execution_count": 59,
   "id": "53d6df59-0fda-4aad-9e32-cb3cdbdf8566",
   "metadata": {},
   "outputs": [],
   "source": [
    "cursor.reset()"
   ]
  },
  {
   "cell_type": "code",
   "execution_count": 60,
   "id": "544b65fd-8c9a-4437-92a6-b2b98702a040",
   "metadata": {},
   "outputs": [],
   "source": [
    "query = \"SELECT `from`, `to`, `with_permission_on`, `date_of_rejoin`, `total` FROM `el` WHERE id=22007; \"\n",
    "cursor.execute(query)\n",
    "data2 = cursor.fetchall()\n"
   ]
  },
  {
   "cell_type": "code",
   "execution_count": 26,
   "id": "6e968dad-6381-4179-aa29-dff947987ffd",
   "metadata": {},
   "outputs": [
    {
     "name": "stdout",
     "output_type": "stream",
     "text": [
      "Collecting xlsxwriter\n",
      "  Downloading XlsxWriter-3.1.2-py3-none-any.whl (153 kB)\n",
      "                                              0.0/153.0 kB ? eta -:--:--\n",
      "     -------                                 30.7/153.0 kB 1.3 MB/s eta 0:00:01\n",
      "     ---------                             41.0/153.0 kB 393.8 kB/s eta 0:00:01\n",
      "     ----------------------                92.2/153.0 kB 751.6 kB/s eta 0:00:01\n",
      "     ----------------------------         122.9/153.0 kB 654.9 kB/s eta 0:00:01\n",
      "     ------------------------------------ 153.0/153.0 kB 759.5 kB/s eta 0:00:00\n",
      "Installing collected packages: xlsxwriter\n",
      "Successfully installed xlsxwriter-3.1.2\n",
      "Note: you may need to restart the kernel to use updated packages.\n"
     ]
    },
    {
     "name": "stderr",
     "output_type": "stream",
     "text": [
      "\n",
      "[notice] A new release of pip is available: 23.1.2 -> 23.2.1\n",
      "[notice] To update, run: python.exe -m pip install --upgrade pip\n"
     ]
    }
   ],
   "source": [
    "pip install xlsxwriter\n"
   ]
  },
  {
   "cell_type": "code",
   "execution_count": 61,
   "id": "a8b3af2a-c4ca-4f61-a9ad-79e7739fd484",
   "metadata": {},
   "outputs": [
    {
     "data": {
      "text/plain": [
       "[(datetime.date(2023, 8, 1),\n",
       "  datetime.date(2023, 8, 2),\n",
       "  None,\n",
       "  datetime.date(2023, 8, 23),\n",
       "  7)]"
      ]
     },
     "execution_count": 61,
     "metadata": {},
     "output_type": "execute_result"
    }
   ],
   "source": [
    "data2"
   ]
  },
  {
   "cell_type": "code",
   "execution_count": 72,
   "id": "dde7a04f-d420-47c7-a21d-cb7995fa6f52",
   "metadata": {},
   "outputs": [],
   "source": [
    "data2\n",
    "# Add \"el\" to each sublist\n",
    "data2_with_el = [sublist + (\"el\",) for sublist in data2]"
   ]
  },
  {
   "cell_type": "code",
   "execution_count": 74,
   "id": "7001bdcd-0a71-466a-97ea-cbda86a5d584",
   "metadata": {},
   "outputs": [
    {
     "data": {
      "text/plain": [
       "'el'"
      ]
     },
     "execution_count": 74,
     "metadata": {},
     "output_type": "execute_result"
    }
   ],
   "source": [
    "data2_with_el[0][-1]"
   ]
  },
  {
   "cell_type": "code",
   "execution_count": 87,
   "id": "7c291b6b-d0bb-43e1-af90-4bac4e3b18e5",
   "metadata": {},
   "outputs": [],
   "source": [
    "import xlsxwriter\n",
    "workbook = xlsxwriter.Workbook('Book.xlsx')\n",
    "worksheet = workbook.add_worksheet()\n",
    "\n",
    "merge_ranges = [\n",
    "    (0, 0, 0, 3),  # Merge A1 to D1\n",
    "    (0, 4, 0, 12), # Merge E1 to M1\n",
    "    (1, 0, 1, 3),  # Merge A2 to D2\n",
    "    (1, 4, 1, 12), # Merge E2 to M2\n",
    "    (2, 0, 2, 3),  # Merge A3 to D3\n",
    "    (2, 4, 2, 12), # Merge E3 to M3\n",
    "    (3, 0, 3, 3),  # Merge A4 to D4\n",
    "    (3, 4, 3, 12), # Merge E4 to M4\n",
    "    (4, 0, 4, 3),  # Merge A5 to D5\n",
    "    (4, 4, 4, 12),  # Merge E5 to M5\n",
    "    (5, 0, 5, 12),  # Merge A^ to M6\n",
    "    (6,0,6,4),\n",
    "    (6,5,6,10)\n",
    "    \n",
    "]\n",
    "cell_format_center = workbook.add_format({\n",
    "    'align': 'center',  # Center alignment\n",
    "    'text_wrap': True,  # Wrap text\n",
    "    \n",
    "})\n",
    "cell_format_left = workbook.add_format({\n",
    "    'align': 'center',  # Center alignment\n",
    "    'text_wrap': True,  # Wrap text\n",
    "    \n",
    "})\n",
    "\n",
    "\n",
    "# Perform the defined merges\n",
    "worksheet.merge_range(*merge_ranges[0], 'Name', cell_format_center)\n",
    "worksheet.merge_range(*merge_ranges[1], data[0][1],cell_format_left)\n",
    "worksheet.merge_range(*merge_ranges[2], 'Designation',cell_format_left)\n",
    "worksheet.merge_range(*merge_ranges[3], '',cell_format_left)\n",
    "worksheet.merge_range(*merge_ranges[4], 'Department',cell_format_left)\n",
    "worksheet.merge_range(*merge_ranges[5], data[0][2],cell_format_left)\n",
    "worksheet.merge_range(*merge_ranges[6], 'Date of joining in service',cell_format_left)\n",
    "worksheet.merge_range(*merge_ranges[7], data[0][3].strftime('%d-%m-%Y'),cell_format_left)\n",
    "worksheet.merge_range(*merge_ranges[8], 'Campus',cell_format_left)\n",
    "worksheet.merge_range(*merge_ranges[9], 'ANNA UNIVERSITY REGIONAL CAMPUS   -   TIRUNELVELI',cell_format_center)\n",
    "worksheet.merge_range(*merge_ranges[10],'DETAILS OF LEAVE', cell_format_left)\n",
    "worksheet.merge_range(*merge_ranges[11],'Earned Leave  (EL)', cell_format_left)\n",
    "worksheet.merge_range(*merge_ranges[12],'Medical Leave  (ML)  /  Maternity Leave  (MTL) / Loss of pay (LOP)', cell_format_left)\n",
    "worksheet.write('L7', 'Typeofleave',cell_format_left)\n",
    "worksheet.write('M7', 'Remarks',cell_format_left)\n",
    "\n",
    "head_list = [['From', 'To', 'with permission on', 'Date of Joining on Duty after EL', 'Total No. of Days',\n",
    "              'From', 'To', 'Total No. of Days', 'Medical Fitness on', 'with permission on',\n",
    "              'Date of Joining on Duty after leave', '(ML/ EL/LOP/MTL)']\n",
    "]\n",
    "\n",
    "# Define the starting row\n",
    "start_row = 7\n",
    "\n",
    "# Iterate through each sublist and its values\n",
    "for sublist in head_list:\n",
    "    column_index = 0  # Start writing from the first column\n",
    "    for value in sublist:\n",
    "        worksheet.write(start_row, column_index, value,cell_format_left)\n",
    "        column_index += 1  # Move to the next column for the next value\n",
    "    start_row += 1 \n",
    "    \n",
    "start_row = 8   \n",
    "for sublist in data2_with_el:\n",
    "    column_index = 0  # Start writing from the first column\n",
    "    if sublist[-1]=='el':\n",
    "        for value in sublist:\n",
    "            if value =='el':\n",
    "                worksheet.write(start_row, 10, value,cell_format_left)\n",
    "            elif isinstance(value, datetime.date):\n",
    "                worksheet.write(start_row, column_index, value.strftime('%d-%m-%Y'),cell_format_left)\n",
    "                column_index += 1\n",
    "            else:\n",
    "                worksheet.write(start_row, column_index, value,cell_format_left)\n",
    "                column_index += 1  # Move to the next column for the next value\n",
    "        start_row += 1 \n",
    "workbook.close()"
   ]
  },
  {
   "cell_type": "code",
   "execution_count": 44,
   "id": "eb06bcac-e0c5-43a1-b919-515604bfb579",
   "metadata": {},
   "outputs": [],
   "source": [
    "#INSERT INTO `el` (`_eL_id`, `id`, `dept`, `from`, `to`, `prefix`, `suffix`, `with_permission_on`, `date_of_rejoin, `total`, `doc`) VALUES ('1', '22007', 'cse', '2023-08-01', '2023-08-02', NULL, NULL, NULL, '2023-08-23', '7', 'sad');"
   ]
  },
  {
   "cell_type": "code",
   "execution_count": 66,
   "id": "673157bc-9861-4e8a-a16e-d0a47c37f234",
   "metadata": {},
   "outputs": [],
   "source": []
  },
  {
   "cell_type": "code",
   "execution_count": 67,
   "id": "93aacdb7-3b1c-4b4d-8232-fb2aa254beb7",
   "metadata": {},
   "outputs": [
    {
     "data": {
      "text/plain": [
       "[[1, 2, 3, 'el'], [4, 5, 6, 'el'], [7, 8, 9, 'el']]"
      ]
     },
     "execution_count": 67,
     "metadata": {},
     "output_type": "execute_result"
    }
   ],
   "source": [
    "nested_list_with_el"
   ]
  },
  {
   "cell_type": "code",
   "execution_count": null,
   "id": "e7f5ec8e-57dd-4320-9258-49de7c82d0c9",
   "metadata": {},
   "outputs": [],
   "source": []
  }
 ],
 "metadata": {
  "kernelspec": {
   "display_name": "Python 3 (ipykernel)",
   "language": "python",
   "name": "python3"
  },
  "language_info": {
   "codemirror_mode": {
    "name": "ipython",
    "version": 3
   },
   "file_extension": ".py",
   "mimetype": "text/x-python",
   "name": "python",
   "nbconvert_exporter": "python",
   "pygments_lexer": "ipython3",
   "version": "3.11.4"
  }
 },
 "nbformat": 4,
 "nbformat_minor": 5
}
