{
 "cells": [
  {
   "cell_type": "code",
   "execution_count": 4,
   "id": "0f0abc45-6556-423c-b339-cf8ebdec25b2",
   "metadata": {},
   "outputs": [],
   "source": [
    "import pandas as pd\n",
    "import mysql.connector\n",
    "import datetime\n",
    "\n",
    "import json"
   ]
  },
  {
   "cell_type": "code",
   "execution_count": 5,
   "id": "29fb82d7-b7e1-4d5e-8621-92b63a6e212c",
   "metadata": {},
   "outputs": [],
   "source": [
    "host = 'localhost'\n",
    "user = 'root'\n",
    "password = ''\n",
    "database = 'facultyleavedb'"
   ]
  },
  {
   "cell_type": "code",
   "execution_count": 6,
   "id": "25cc5b23-4819-4ce9-bd69-d1111820fb36",
   "metadata": {},
   "outputs": [],
   "source": [
    "def with_permission_fun(from_prefix, to_prefix, from_suffix,to_suffix):\n",
    "    prefix = []\n",
    "    if from_prefix and to_prefix:\n",
    "        prefix.append(f\"{from_prefix.strftime('%d-%m-%Y')} to {to_prefix.strftime('%d-%m-%Y')}\")\n",
    "    elif not from_prefix and to_prefix:\n",
    "        prefix.append(f\"{to_prefix.strftime('%d-%m-%Y')}\")\n",
    "    elif from_prefix and not to_prefix:\n",
    "        prefix.append(f\"{from_prefix.strftime('%d-%m-%Y')}\")\n",
    "    \n",
    "    suffix = []\n",
    "    if from_suffix and to_suffix:\n",
    "        suffix.append(f\"{from_suffix.strftime('%d-%m-%Y')} to {to_suffix.strftime('%d-%m-%Y')}\")\n",
    "    elif not from_suffix and to_suffix:\n",
    "        suffix.append(f\"{to_suffix.strftime('%d-%m-%Y')}\")\n",
    "    elif from_suffix and not to_suffix:\n",
    "        suffix.append(f\"{from_suffix.strftime('%d-%m-%Y')}\")\n",
    "    \n",
    "    on_permission = []\n",
    "    if prefix and suffix:\n",
    "        on_permission.append(f\"{prefix[0]} & {suffix[0]}\")\n",
    "    elif not prefix and suffix:\n",
    "        on_permission.append(suffix[0])\n",
    "    elif prefix and not suffix:\n",
    "        on_permission.append(prefix[0])\n",
    "    \n",
    "    return on_permission\n"
   ]
  },
  {
   "cell_type": "code",
   "execution_count": 7,
   "id": "f916c5c5-e483-4715-b014-228008c2ad71",
   "metadata": {},
   "outputs": [],
   "source": [
    "conn = mysql.connector.connect(host=host, user=user, password=password, database=database)\n",
    "cursor = conn.cursor()"
   ]
  },
  {
   "cell_type": "code",
   "execution_count": 8,
   "id": "31c74417-674b-4337-b5f3-ab3634625e46",
   "metadata": {},
   "outputs": [],
   "source": [
    "query = \"SELECT * FROM `staff` WHERE id=22015;\"\n",
    "cursor.execute(query)\n",
    "data = cursor.fetchall()\n"
   ]
  },
  {
   "cell_type": "code",
   "execution_count": 7,
   "id": "544b65fd-8c9a-4437-92a6-b2b98702a040",
   "metadata": {},
   "outputs": [],
   "source": [
    "cursor.reset()\n",
    "on_permission  =[]\n",
    "query = \"SELECT `from`, `to`, `from_prefix`, `to_prefix`, `from_suffix`, `to_suffix`, `date_of_rejoin`, `total` FROM `el` WHERE id=22015; \"\n",
    "cursor.execute(query)\n",
    "data2 = cursor.fetchall()\n",
    "data2\n",
    "data_el = [sublist + (\"el\",) for sublist in data2]\n",
    "data_el\n",
    "for i in data_el:\n",
    "    on_permission.append(with_permission_fun(i[2],i[3],i[4],i[5]))"
   ]
  },
  {
   "cell_type": "code",
   "execution_count": 32,
   "id": "d3156797-4c75-453e-9722-254131bc625a",
   "metadata": {},
   "outputs": [
    {
     "data": {
      "text/plain": [
       "[['2015-05-01 to 2015-05-03 & 2015-05-09 to 2015-05-10'],\n",
       " ['2015-07-12'],\n",
       " ['2015-08-08 to 2015-08-09 & 2015-08-15 to 2015-08-16'],\n",
       " ['2015-09-27 & 2015-10-02 to 2015-10-04'],\n",
       " [],\n",
       " [],\n",
       " []]"
      ]
     },
     "execution_count": 32,
     "metadata": {},
     "output_type": "execute_result"
    }
   ],
   "source": [
    "on_permission"
   ]
  },
  {
   "cell_type": "code",
   "execution_count": 33,
   "id": "9b25fc71-849b-4712-aa53-b8098969ae68",
   "metadata": {},
   "outputs": [],
   "source": [
    "data_el_updated = []\n",
    "for i,sublist in enumerate(data_el):\n",
    "    # Extract the columns you want to keep\n",
    "    columns_to_keep = sublist[:2] + (on_permission[i],) + sublist[6:]\n",
    "    data_el_updated.append(columns_to_keep)"
   ]
  },
  {
   "cell_type": "code",
   "execution_count": 34,
   "id": "ee977fd9-486d-4d86-8f7b-01e8761a4e04",
   "metadata": {},
   "outputs": [
    {
     "data": {
      "text/plain": [
       "(datetime.date(2015, 5, 4),\n",
       " datetime.date(2015, 5, 8),\n",
       " ['2015-05-01 to 2015-05-03 & 2015-05-09 to 2015-05-10'],\n",
       " datetime.date(2015, 5, 11),\n",
       " 5,\n",
       " 'el')"
      ]
     },
     "execution_count": 34,
     "metadata": {},
     "output_type": "execute_result"
    }
   ],
   "source": [
    "data_el_updated[0]"
   ]
  },
  {
   "cell_type": "code",
   "execution_count": 35,
   "id": "4bc786c9-7de2-4331-9ddf-232fe29aaf92",
   "metadata": {},
   "outputs": [
    {
     "ename": "ProgrammingError",
     "evalue": "1054 (42S22): Unknown column 'with_permission_on' in 'field list'",
     "output_type": "error",
     "traceback": [
      "\u001b[1;31m---------------------------------------------------------------------------\u001b[0m",
      "\u001b[1;31mMySQLInterfaceError\u001b[0m                       Traceback (most recent call last)",
      "File \u001b[1;32m~\\AppData\\Local\\Programs\\Python\\Python310\\lib\\site-packages\\mysql\\connector\\connection_cext.py:633\u001b[0m, in \u001b[0;36mCMySQLConnection.cmd_query\u001b[1;34m(self, query, raw, buffered, raw_as_string)\u001b[0m\n\u001b[0;32m    632\u001b[0m         query \u001b[38;5;241m=\u001b[39m query\u001b[38;5;241m.\u001b[39mencode(\u001b[38;5;124m\"\u001b[39m\u001b[38;5;124mutf-8\u001b[39m\u001b[38;5;124m\"\u001b[39m)\n\u001b[1;32m--> 633\u001b[0m     \u001b[38;5;28;43mself\u001b[39;49m\u001b[38;5;241;43m.\u001b[39;49m\u001b[43m_cmysql\u001b[49m\u001b[38;5;241;43m.\u001b[39;49m\u001b[43mquery\u001b[49m\u001b[43m(\u001b[49m\n\u001b[0;32m    634\u001b[0m \u001b[43m        \u001b[49m\u001b[43mquery\u001b[49m\u001b[43m,\u001b[49m\n\u001b[0;32m    635\u001b[0m \u001b[43m        \u001b[49m\u001b[43mraw\u001b[49m\u001b[38;5;241;43m=\u001b[39;49m\u001b[43mraw\u001b[49m\u001b[43m,\u001b[49m\n\u001b[0;32m    636\u001b[0m \u001b[43m        \u001b[49m\u001b[43mbuffered\u001b[49m\u001b[38;5;241;43m=\u001b[39;49m\u001b[43mbuffered\u001b[49m\u001b[43m,\u001b[49m\n\u001b[0;32m    637\u001b[0m \u001b[43m        \u001b[49m\u001b[43mraw_as_string\u001b[49m\u001b[38;5;241;43m=\u001b[39;49m\u001b[43mraw_as_string\u001b[49m\u001b[43m,\u001b[49m\n\u001b[0;32m    638\u001b[0m \u001b[43m        \u001b[49m\u001b[43mquery_attrs\u001b[49m\u001b[38;5;241;43m=\u001b[39;49m\u001b[38;5;28;43mself\u001b[39;49m\u001b[38;5;241;43m.\u001b[39;49m\u001b[43mquery_attrs\u001b[49m\u001b[43m,\u001b[49m\n\u001b[0;32m    639\u001b[0m \u001b[43m    \u001b[49m\u001b[43m)\u001b[49m\n\u001b[0;32m    640\u001b[0m \u001b[38;5;28;01mexcept\u001b[39;00m MySQLInterfaceError \u001b[38;5;28;01mas\u001b[39;00m err:\n",
      "\u001b[1;31mMySQLInterfaceError\u001b[0m: Unknown column 'with_permission_on' in 'field list'",
      "\nThe above exception was the direct cause of the following exception:\n",
      "\u001b[1;31mProgrammingError\u001b[0m                          Traceback (most recent call last)",
      "Cell \u001b[1;32mIn[35], line 3\u001b[0m\n\u001b[0;32m      1\u001b[0m cursor\u001b[38;5;241m.\u001b[39mreset()\n\u001b[0;32m      2\u001b[0m query \u001b[38;5;241m=\u001b[39m \u001b[38;5;124m\"\u001b[39m\u001b[38;5;124mSELECT `from`, `to`, `medical_fittness_on`, `with_permission_on`, `doj`, `total` FROM `lop` WHERE id=22009; \u001b[39m\u001b[38;5;124m\"\u001b[39m\n\u001b[1;32m----> 3\u001b[0m \u001b[43mcursor\u001b[49m\u001b[38;5;241;43m.\u001b[39;49m\u001b[43mexecute\u001b[49m\u001b[43m(\u001b[49m\u001b[43mquery\u001b[49m\u001b[43m)\u001b[49m\n\u001b[0;32m      4\u001b[0m data3 \u001b[38;5;241m=\u001b[39m cursor\u001b[38;5;241m.\u001b[39mfetchall()\n\u001b[0;32m      5\u001b[0m data_lop \u001b[38;5;241m=\u001b[39m [sublist \u001b[38;5;241m+\u001b[39m (\u001b[38;5;124m\"\u001b[39m\u001b[38;5;124mlop\u001b[39m\u001b[38;5;124m\"\u001b[39m,) \u001b[38;5;28;01mfor\u001b[39;00m sublist \u001b[38;5;129;01min\u001b[39;00m data3]\n",
      "File \u001b[1;32m~\\AppData\\Local\\Programs\\Python\\Python310\\lib\\site-packages\\mysql\\connector\\cursor_cext.py:330\u001b[0m, in \u001b[0;36mCMySQLCursor.execute\u001b[1;34m(self, operation, params, multi)\u001b[0m\n\u001b[0;32m    325\u001b[0m             \u001b[38;5;28;01mraise\u001b[39;00m ProgrammingError(\n\u001b[0;32m    326\u001b[0m                 \u001b[38;5;124m\"\u001b[39m\u001b[38;5;124mNot all parameters were used in the SQL statement\u001b[39m\u001b[38;5;124m\"\u001b[39m\n\u001b[0;32m    327\u001b[0m             )\n\u001b[0;32m    329\u001b[0m \u001b[38;5;28;01mtry\u001b[39;00m:\n\u001b[1;32m--> 330\u001b[0m     result \u001b[38;5;241m=\u001b[39m \u001b[38;5;28;43mself\u001b[39;49m\u001b[38;5;241;43m.\u001b[39;49m\u001b[43m_cnx\u001b[49m\u001b[38;5;241;43m.\u001b[39;49m\u001b[43mcmd_query\u001b[49m\u001b[43m(\u001b[49m\n\u001b[0;32m    331\u001b[0m \u001b[43m        \u001b[49m\u001b[43mstmt\u001b[49m\u001b[43m,\u001b[49m\n\u001b[0;32m    332\u001b[0m \u001b[43m        \u001b[49m\u001b[43mraw\u001b[49m\u001b[38;5;241;43m=\u001b[39;49m\u001b[38;5;28;43mself\u001b[39;49m\u001b[38;5;241;43m.\u001b[39;49m\u001b[43m_raw\u001b[49m\u001b[43m,\u001b[49m\n\u001b[0;32m    333\u001b[0m \u001b[43m        \u001b[49m\u001b[43mbuffered\u001b[49m\u001b[38;5;241;43m=\u001b[39;49m\u001b[38;5;28;43mself\u001b[39;49m\u001b[38;5;241;43m.\u001b[39;49m\u001b[43m_buffered\u001b[49m\u001b[43m,\u001b[49m\n\u001b[0;32m    334\u001b[0m \u001b[43m        \u001b[49m\u001b[43mraw_as_string\u001b[49m\u001b[38;5;241;43m=\u001b[39;49m\u001b[38;5;28;43mself\u001b[39;49m\u001b[38;5;241;43m.\u001b[39;49m\u001b[43m_raw_as_string\u001b[49m\u001b[43m,\u001b[49m\n\u001b[0;32m    335\u001b[0m \u001b[43m    \u001b[49m\u001b[43m)\u001b[49m\n\u001b[0;32m    336\u001b[0m \u001b[38;5;28;01mexcept\u001b[39;00m MySQLInterfaceError \u001b[38;5;28;01mas\u001b[39;00m err:\n\u001b[0;32m    337\u001b[0m     \u001b[38;5;28;01mraise\u001b[39;00m get_mysql_exception(\n\u001b[0;32m    338\u001b[0m         msg\u001b[38;5;241m=\u001b[39merr\u001b[38;5;241m.\u001b[39mmsg, errno\u001b[38;5;241m=\u001b[39merr\u001b[38;5;241m.\u001b[39merrno, sqlstate\u001b[38;5;241m=\u001b[39merr\u001b[38;5;241m.\u001b[39msqlstate\n\u001b[0;32m    339\u001b[0m     ) \u001b[38;5;28;01mfrom\u001b[39;00m \u001b[38;5;21;01merr\u001b[39;00m\n",
      "File \u001b[1;32m~\\AppData\\Local\\Programs\\Python\\Python310\\lib\\site-packages\\mysql\\connector\\opentelemetry\\context_propagation.py:77\u001b[0m, in \u001b[0;36mwith_context_propagation.<locals>.wrapper\u001b[1;34m(cnx, *args, **kwargs)\u001b[0m\n\u001b[0;32m     75\u001b[0m \u001b[38;5;250m\u001b[39m\u001b[38;5;124;03m\"\"\"Context propagation decorator.\"\"\"\u001b[39;00m\n\u001b[0;32m     76\u001b[0m \u001b[38;5;28;01mif\u001b[39;00m \u001b[38;5;129;01mnot\u001b[39;00m OTEL_ENABLED \u001b[38;5;129;01mor\u001b[39;00m \u001b[38;5;129;01mnot\u001b[39;00m cnx\u001b[38;5;241m.\u001b[39motel_context_propagation:\n\u001b[1;32m---> 77\u001b[0m     \u001b[38;5;28;01mreturn\u001b[39;00m method(cnx, \u001b[38;5;241m*\u001b[39margs, \u001b[38;5;241m*\u001b[39m\u001b[38;5;241m*\u001b[39mkwargs)\n\u001b[0;32m     79\u001b[0m current_span \u001b[38;5;241m=\u001b[39m trace\u001b[38;5;241m.\u001b[39mget_current_span()\n\u001b[0;32m     80\u001b[0m tp_header \u001b[38;5;241m=\u001b[39m \u001b[38;5;28;01mNone\u001b[39;00m\n",
      "File \u001b[1;32m~\\AppData\\Local\\Programs\\Python\\Python310\\lib\\site-packages\\mysql\\connector\\connection_cext.py:641\u001b[0m, in \u001b[0;36mCMySQLConnection.cmd_query\u001b[1;34m(self, query, raw, buffered, raw_as_string)\u001b[0m\n\u001b[0;32m    633\u001b[0m     \u001b[38;5;28mself\u001b[39m\u001b[38;5;241m.\u001b[39m_cmysql\u001b[38;5;241m.\u001b[39mquery(\n\u001b[0;32m    634\u001b[0m         query,\n\u001b[0;32m    635\u001b[0m         raw\u001b[38;5;241m=\u001b[39mraw,\n\u001b[1;32m   (...)\u001b[0m\n\u001b[0;32m    638\u001b[0m         query_attrs\u001b[38;5;241m=\u001b[39m\u001b[38;5;28mself\u001b[39m\u001b[38;5;241m.\u001b[39mquery_attrs,\n\u001b[0;32m    639\u001b[0m     )\n\u001b[0;32m    640\u001b[0m \u001b[38;5;28;01mexcept\u001b[39;00m MySQLInterfaceError \u001b[38;5;28;01mas\u001b[39;00m err:\n\u001b[1;32m--> 641\u001b[0m     \u001b[38;5;28;01mraise\u001b[39;00m get_mysql_exception(\n\u001b[0;32m    642\u001b[0m         err\u001b[38;5;241m.\u001b[39merrno, msg\u001b[38;5;241m=\u001b[39merr\u001b[38;5;241m.\u001b[39mmsg, sqlstate\u001b[38;5;241m=\u001b[39merr\u001b[38;5;241m.\u001b[39msqlstate\n\u001b[0;32m    643\u001b[0m     ) \u001b[38;5;28;01mfrom\u001b[39;00m \u001b[38;5;21;01merr\u001b[39;00m\n\u001b[0;32m    644\u001b[0m \u001b[38;5;28;01mexcept\u001b[39;00m \u001b[38;5;167;01mAttributeError\u001b[39;00m \u001b[38;5;28;01mas\u001b[39;00m err:\n\u001b[0;32m    645\u001b[0m     addr \u001b[38;5;241m=\u001b[39m (\n\u001b[0;32m    646\u001b[0m         \u001b[38;5;28mself\u001b[39m\u001b[38;5;241m.\u001b[39m_unix_socket \u001b[38;5;28;01mif\u001b[39;00m \u001b[38;5;28mself\u001b[39m\u001b[38;5;241m.\u001b[39m_unix_socket \u001b[38;5;28;01melse\u001b[39;00m \u001b[38;5;124mf\u001b[39m\u001b[38;5;124m\"\u001b[39m\u001b[38;5;132;01m{\u001b[39;00m\u001b[38;5;28mself\u001b[39m\u001b[38;5;241m.\u001b[39m_host\u001b[38;5;132;01m}\u001b[39;00m\u001b[38;5;124m:\u001b[39m\u001b[38;5;132;01m{\u001b[39;00m\u001b[38;5;28mself\u001b[39m\u001b[38;5;241m.\u001b[39m_port\u001b[38;5;132;01m}\u001b[39;00m\u001b[38;5;124m\"\u001b[39m\n\u001b[0;32m    647\u001b[0m     )\n",
      "\u001b[1;31mProgrammingError\u001b[0m: 1054 (42S22): Unknown column 'with_permission_on' in 'field list'"
     ]
    }
   ],
   "source": [
    "cursor.reset()\n",
    "query = \"SELECT `from`, `to`, `medical_fittness_on`, `with_permission_on`, `doj`, `total` FROM `lop` WHERE id=22009; \"\n",
    "cursor.execute(query)\n",
    "data3 = cursor.fetchall()\n",
    "data_lop = [sublist + (\"lop\",) for sublist in data3]"
   ]
  },
  {
   "cell_type": "code",
   "execution_count": 89,
   "id": "8be0d0b9-53e1-4f74-944e-796e62fdc194",
   "metadata": {},
   "outputs": [],
   "source": [
    "cursor.reset()\n",
    "query = \"SELECT `from`, `to`, `medical_fittness_on`, `with_permission_on`, `doj`, `total` FROM `ml` WHERE id=22015; \"\n",
    "cursor.execute(query)\n",
    "data4 = cursor.fetchall()\n",
    "data_ml = [sublist + (\"ml\",) for sublist in data4]"
   ]
  },
  {
   "cell_type": "code",
   "execution_count": 90,
   "id": "0a701c06-817b-4be6-a17c-62c51693a972",
   "metadata": {},
   "outputs": [],
   "source": [
    "cursor.reset()\n",
    "query = \"SELECT `from`, `to`, `medical_fittness_on`, `with_permission_on`, `doj`, `total` FROM `mtl` WHERE id=22015; \"\n",
    "cursor.execute(query)\n",
    "data5 = cursor.fetchall()\n",
    "data_mtl = [sublist + (\"mtl\",) for sublist in data5]"
   ]
  },
  {
   "cell_type": "code",
   "execution_count": 27,
   "id": "6604a74e-330e-4428-a133-01266d87a3df",
   "metadata": {},
   "outputs": [
    {
     "name": "stdout",
     "output_type": "stream",
     "text": [
      "(datetime.date(2015, 5, 4), datetime.date(2015, 5, 8), ['01-05-2015 to 03-05-2015 & 09-05-2015 to 10-05-2015'], datetime.date(2015, 5, 11), 5, 'el')\n",
      "(datetime.date(2015, 7, 7), datetime.date(2015, 7, 11), ['12-07-2015'], datetime.date(2015, 7, 13), 5, 'el')\n",
      "(datetime.date(2015, 8, 10), datetime.date(2015, 8, 14), ['08-08-2015 to 09-08-2015 & 15-08-2015 to 16-08-2015'], datetime.date(2015, 8, 17), 5, 'el')\n",
      "(datetime.date(2015, 9, 28), datetime.date(2015, 10, 1), ['27-09-2015 & 02-10-2015 to 04-10-2015'], datetime.date(2015, 10, 5), 4, 'el')\n",
      "(datetime.date(2020, 3, 11), datetime.date(2020, 3, 14), [], None, 4, 'el')\n",
      "(datetime.date(2020, 5, 19), datetime.date(2020, 5, 23), [], None, 5, 'el')\n",
      "(datetime.date(2020, 11, 5), datetime.date(2020, 11, 11), [], datetime.date(2020, 11, 12), 7, 'el')\n",
      "(datetime.date(2022, 3, 22), datetime.date(2022, 3, 27), 6, b'[\"28.03.222\"]', [], datetime.date(2022, 3, 28), 'ml')\n",
      "(datetime.date(2022, 5, 4), datetime.date(2022, 5, 18), 15, b'[\"2022-05-19\"]', ['03-05-2022'], datetime.date(2022, 5, 19), 'ml')\n",
      "(datetime.date(2022, 10, 10), datetime.date(2022, 10, 16), 7, b'[\"2022-10-17\"]', ['09-10-2022'], datetime.date(2022, 10, 17), 'ml')\n"
     ]
    }
   ],
   "source": [
    "sorted_data = sorted(data_lop+data_el+data_ml+data_mtl, key=lambda x: x[0])\n",
    "for item in sorted_data:\n",
    "    print(item)"
   ]
  },
  {
   "cell_type": "code",
   "execution_count": 88,
   "id": "7c291b6b-d0bb-43e1-af90-4bac4e3b18e5",
   "metadata": {},
   "outputs": [
    {
     "name": "stdout",
     "output_type": "stream",
     "text": [
      "ml\n",
      "ml\n",
      "ml\n",
      "20\n"
     ]
    }
   ],
   "source": [
    "import xlsxwriter\n",
    "workbook = xlsxwriter.Workbook('Book.xlsx')\n",
    "worksheet = workbook.add_worksheet()\n",
    "worksheet.set_column('A:M', 12) \n",
    "\n",
    "need_remark = False\n",
    "\n",
    "merge_ranges = [\n",
    "    (2, 0, 2, 3),  \n",
    "    (2, 4, 2, 12), \n",
    "    (3, 0, 3, 3),  \n",
    "    (3, 4, 3, 12), \n",
    "    (4, 0, 4, 3),  \n",
    "    (4, 4, 4, 12), \n",
    "    (5, 0, 5, 3),  \n",
    "    (5, 4, 5, 12), \n",
    "    (6, 0, 6, 3),  \n",
    "    (6, 4, 6, 12), \n",
    "    (7, 0, 7, 12),  \n",
    "    (8, 0, 8, 4),\n",
    "    (8, 5, 8, 10)\n",
    "    \n",
    "]\n",
    "cell_format_center = workbook.add_format({\n",
    "    'align': 'center',  # Center alignment\n",
    "    'text_wrap': True,  # Wrap text\n",
    "    \n",
    "})\n",
    "cell_format_left = workbook.add_format({\n",
    "    'align': 'center',  # Center alignment\n",
    "    'text_wrap': True,  # Wrap text\n",
    "    \n",
    "})\n",
    "\n",
    "\n",
    "# Perform the defined merges\n",
    "worksheet.merge_range(*(0,0,0,12), 'Annexure -II'\t, cell_format_center)\n",
    "worksheet.merge_range(*(1,0,1,12), 'Anna univeristy chennai', cell_format_center)\n",
    "worksheet.merge_range(*merge_ranges[0], 'Name', cell_format_center)\n",
    "worksheet.merge_range(*merge_ranges[1], data[0][1],cell_format_left)\n",
    "worksheet.merge_range(*merge_ranges[2], 'Designation',cell_format_left)\n",
    "worksheet.merge_range(*merge_ranges[3], '',cell_format_left)\n",
    "worksheet.merge_range(*merge_ranges[4], 'Department',cell_format_left)\n",
    "worksheet.merge_range(*merge_ranges[5], data[0][2],cell_format_left)\n",
    "worksheet.merge_range(*merge_ranges[6], 'Date of joining in service',cell_format_left)\n",
    "worksheet.merge_range(*merge_ranges[7], data[0][3].strftime('%d-%m-%Y'),cell_format_left)\n",
    "worksheet.merge_range(*merge_ranges[8], 'Campus',cell_format_left)\n",
    "worksheet.merge_range(*merge_ranges[9], 'ANNA UNIVERSITY REGIONAL CAMPUS   -   TIRUNELVELI',cell_format_center)\n",
    "worksheet.merge_range(*merge_ranges[10],'DETAILS OF LEAVE', cell_format_left)\n",
    "worksheet.merge_range(*merge_ranges[11],'Earned Leave  (EL)', cell_format_left)\n",
    "worksheet.merge_range(*merge_ranges[12],'Medical Leave  (ML)  /  Maternity Leave  (MTL) / Loss of pay (LOP)', cell_format_left)\n",
    "worksheet.write('L9', 'Type of Leave',cell_format_left)\n",
    "if need_remark:\n",
    "    worksheet.write('M10', 'Remarks',cell_format_left)\n",
    "\n",
    "head_list = [['From', 'To', 'with permission on', 'Date of Joining on Duty after EL', 'Total No. of Days',\n",
    "              'From', 'To', 'Total No. of Days', 'Medical Fitness on', 'with permission on',\n",
    "              'Date of Joining on Duty after leave', '(ML/ EL/LOP/MTL)']\n",
    "]\n",
    "\n",
    "# Define the starting row\n",
    "start_row = 9\n",
    "\n",
    "# Iterate through each sublist and its values\n",
    "for sublist in head_list:\n",
    "    column_index = 0  # Start writing from the first column\n",
    "    for value in sublist:\n",
    "        worksheet.write(start_row, column_index, value,cell_format_left)\n",
    "        column_index += 1  # Move to the next column for the next value\n",
    "    start_row += 1 \n",
    "    \n",
    "start_row = 10   \n",
    "for sublist in sorted_data:\n",
    "     # Start writing from the first column\n",
    "    if sublist[-1]=='el':\n",
    "        column_index = 0 \n",
    "        for value in sublist:\n",
    "            if value =='el':\n",
    "                worksheet.write(start_row, 11, value,cell_format_left)\n",
    "            elif isinstance(value, datetime.date):\n",
    "                worksheet.write(start_row, column_index, value.strftime('%d-%m-%Y'),cell_format_left)\n",
    "                column_index += 1\n",
    "            elif isinstance(value, str) and value.startswith(\"AURCT\") and need_remark:\n",
    "                worksheet.write(start_row, 12, value,cell_format_left)\n",
    "            elif isinstance(value, list):\n",
    "                \n",
    "                if value:\n",
    "                    worksheet.write(start_row, column_index,value[0] ,cell_format_left)\n",
    "                else: \n",
    "                    worksheet.write(start_row, column_index,\"Nil\" ,cell_format_left)\n",
    "                    \n",
    "                column_index += 1\n",
    "                \n",
    "            elif isinstance(value, bytes):\n",
    "                byte_data = value\n",
    "                byte_data_str = byte_data.decode('utf-8')\n",
    "                str_data=json.loads(byte_data_str)\n",
    "                worksheet.write(start_row, column_index,str_data[0] ,cell_format_left)\n",
    "                column_index += 1\n",
    "            else:\n",
    "                worksheet.write(start_row, column_index, value,cell_format_left)\n",
    "                column_index += 1  # Move to the next column for the next value\n",
    "        for i in range(column_index,11):\n",
    "            worksheet.write(start_row, i,\"-\" ,cell_format_center)\n",
    "            \n",
    "        start_row += 1 \n",
    "    else:\n",
    "        column_index = 5\n",
    "        for value in sublist:\n",
    "            if value == 'lop' or value == 'mtl' or value == 'ml':\n",
    "                print(value)\n",
    "                worksheet.write(start_row, 11, value,cell_format_left)\n",
    "            elif isinstance(value, datetime.date):\n",
    "                worksheet.write(start_row, column_index, value.strftime('%d-%m-%Y'),cell_format_left)\n",
    "                column_index += 1\n",
    "                \n",
    "            elif isinstance(value, str) and value.startswith(\"AURCT\") and need_remark:\n",
    "                worksheet.write(start_row, 12, value,cell_format_left)   \n",
    "                \n",
    "            elif isinstance(value, bytes):\n",
    "                byte_data = value\n",
    "                byte_data_str = byte_data.decode('utf-8')\n",
    "                str_data=json.loads(byte_data_str)\n",
    "                formatted_date = datetime.datetime.strptime(str_data[0], \"%Y-%m-%d\")\n",
    "                worksheet.write(start_row, column_index,formatted_date.strftime('%d-%m-%Y') ,cell_format_left)\n",
    "                column_index += 1\n",
    "                \n",
    "            elif isinstance(value, list):\n",
    "                if value:\n",
    "                    worksheet.write(start_row, column_index,value[0] ,cell_format_left)\n",
    "                else:\n",
    "                    worksheet.write(start_row, column_index,\"Nil\" ,cell_format_left)\n",
    "                column_index += 1\n",
    "                \n",
    "                \n",
    "            else:\n",
    "                worksheet.write(start_row, column_index, value,cell_format_left)\n",
    "                column_index += 1  # Move to the next column for the next value\n",
    "        for i in range(0,5):\n",
    "             worksheet.write(start_row, i,\"-\" ,cell_format_center)\n",
    "            \n",
    "        start_row += 1 \n",
    "print(start_row)\n",
    "worksheet.merge_range(*(start_row-1,0,start_row-1,12), 'sample last row'\t, cell_format_center)   \n",
    "workbook.close()"
   ]
  },
  {
   "cell_type": "code",
   "execution_count": 104,
   "id": "eb06bcac-e0c5-43a1-b919-515604bfb579",
   "metadata": {},
   "outputs": [
    {
     "name": "stdout",
     "output_type": "stream",
     "text": [
      "Annexure -II\n"
     ]
    }
   ],
   "source": [
    "import os\n",
    "import openpyxl\n",
    "\n",
    "# Open the workbook\n",
    "workbook = openpyxl.load_workbook('book.xlsx')\n",
    "\n",
    "# Access the worksheet\n",
    "worksheet = workbook['Sheet1']\n",
    "\n",
    "# Access a cell\n",
    "cell = worksheet['A1']\n",
    "\n",
    "# Print the value of the cell\n",
    "print(cell.value)\n",
    "\n",
    "# Close the workbook and delete it\n",
    "workbook.close()\n",
    "os.remove('book.xlsx')"
   ]
  },
  {
   "cell_type": "code",
   "execution_count": 103,
   "id": "7e912402-ac8d-4be8-9b24-79245efe0ce8",
   "metadata": {},
   "outputs": [
    {
     "name": "stdout",
     "output_type": "stream",
     "text": [
      "Collecting openpyxl\n",
      "  Downloading openpyxl-3.1.2-py2.py3-none-any.whl (249 kB)\n",
      "     -------------------------------------- 250.0/250.0 kB 2.2 MB/s eta 0:00:00\n",
      "Collecting et-xmlfile\n",
      "  Downloading et_xmlfile-1.1.0-py3-none-any.whl (4.7 kB)\n",
      "Installing collected packages: et-xmlfile, openpyxl\n",
      "Successfully installed et-xmlfile-1.1.0 openpyxl-3.1.2\n",
      "Note: you may need to restart the kernel to use updated packages.\n"
     ]
    },
    {
     "name": "stderr",
     "output_type": "stream",
     "text": [
      "WARNING: Ignoring invalid distribution -ip (c:\\users\\harish s\\appdata\\local\\programs\\python\\python310\\lib\\site-packages)\n",
      "WARNING: Ignoring invalid distribution -ip (c:\\users\\harish s\\appdata\\local\\programs\\python\\python310\\lib\\site-packages)\n",
      "WARNING: Ignoring invalid distribution -ip (c:\\users\\harish s\\appdata\\local\\programs\\python\\python310\\lib\\site-packages)\n",
      "WARNING: Ignoring invalid distribution -ip (c:\\users\\harish s\\appdata\\local\\programs\\python\\python310\\lib\\site-packages)\n",
      "WARNING: Ignoring invalid distribution -ip (c:\\users\\harish s\\appdata\\local\\programs\\python\\python310\\lib\\site-packages)\n",
      "WARNING: Ignoring invalid distribution -ip (c:\\users\\harish s\\appdata\\local\\programs\\python\\python310\\lib\\site-packages)\n",
      "WARNING: Ignoring invalid distribution -ip (c:\\users\\harish s\\appdata\\local\\programs\\python\\python310\\lib\\site-packages)\n",
      "WARNING: Ignoring invalid distribution -ip (c:\\users\\harish s\\appdata\\local\\programs\\python\\python310\\lib\\site-packages)\n",
      "\n",
      "[notice] A new release of pip available: 22.3.1 -> 23.2.1\n",
      "[notice] To update, run: python.exe -m pip install --upgrade pip\n"
     ]
    }
   ],
   "source": [
    "pip install openpyxl"
   ]
  },
  {
   "cell_type": "code",
   "execution_count": 2,
   "id": "db278ded-cc8d-438a-a7bb-8bb9a1b91065",
   "metadata": {},
   "outputs": [],
   "source": [
    "key = [\"yourname\",\n",
    "       \"dest\",\n",
    "       \"dep\",\n",
    "       \"type\",\n",
    "       \"reason\",\n",
    "       \"dates\"\n",
    "       \"leave_add\",\n",
    "       \"notes\",\n",
    "       \"date\"\n",
    "      ]"
   ]
  },
  {
   "cell_type": "code",
   "execution_count": 1,
   "id": "daea9ae4-63ff-4de9-9e4f-39de6b6ae9b0",
   "metadata": {},
   "outputs": [
    {
     "name": "stdout",
     "output_type": "stream",
     "text": [
      "Word document 'modified_example.docx' with replaced word has been created.\n"
     ]
    }
   ],
   "source": [
    "from docx import Document\n",
    "\n",
    "yourname = input(\"Enter your name: \")\n",
    "dest = input(\"Enter your destination: \")\n",
    "dep = input(\"Enter your departure location: \")\n",
    "type = input(\"Enter the type of travel: \")\n",
    "reason = input(\"Enter the reason for travel: \")\n",
    "dates = input(\"Enter the travel dates: \")\n",
    "leave_add = input(\"Enter your leave address: \")\n",
    "notes = input(\"Enter any notes: \")\n",
    "date = input(\"Enter the current date: \")\n",
    "\n",
    "doc = Document('lf.docx')\n",
    "\n",
    "target_word = 'yourname'\n",
    "replacement_text = yourname\n",
    "\n",
    "# Iterate through paragraphs and runs to find and replace the target word\n",
    "for paragraph in doc.paragraphs:\n",
    "    for run in paragraph.runs:\n",
    "        if target_word in run.text:\n",
    "            new_text = run.text.replace(target_word, replacement_text)\n",
    "            run.text = new_text\n",
    "\n",
    "# Save the modified document\n",
    "doc.save('modified_example.docx')\n",
    "\n",
    "print(\"Word document 'modified_example.docx' with replaced word has been created.\")\n"
   ]
  },
  {
   "cell_type": "code",
   "execution_count": 5,
   "id": "bc89c879-b8d1-4667-bf41-ca535392cd3e",
   "metadata": {},
   "outputs": [
    {
     "name": "stdin",
     "output_type": "stream",
     "text": [
      "Enter your name:  maheshwar\n",
      "Enter your destination:  master\n",
      "Enter your departure location:  do not know\n",
      "Enter the type of travel:  space\n",
      "Enter the reason for travel:  timepass\n",
      "Enter the travel dates:  12/7/1993\n",
      "Enter your leave address:  earth\n",
      "Enter any notes:  o\n",
      "Enter the current date:  12/8/2019\n"
     ]
    },
    {
     "name": "stdout",
     "output_type": "stream",
     "text": [
      "Document filled and saved as 'filled_document.docx'\n"
     ]
    },
    {
     "name": "stdin",
     "output_type": "stream",
     "text": [
      "Press Enter after you've closed the Excel file... 1\n"
     ]
    }
   ],
   "source": [
    "from docx import Document\n",
    "\n",
    "# Taking input from the user\n",
    "yourname = input(\"Enter your name: \")\n",
    "dest = input(\"Enter your destination: \")\n",
    "dep = input(\"Enter your departure location: \")\n",
    "travel_type = input(\"Enter the type of travel: \")\n",
    "reason = input(\"Enter the reason for travel: \")\n",
    "dates = input(\"Enter the travel dates: \")\n",
    "leave_add = input(\"Enter your leave address: \")\n",
    "notes = input(\"Enter any notes: \")\n",
    "date = input(\"Enter the current date: \")\n",
    "\n",
    "# Create a new document based on the template\n",
    "doc = Document('lf.docx')\n",
    "\n",
    "# Dictionary to store field names and their corresponding values\n",
    "fields = {\n",
    "    'yourname': yourname,\n",
    "    'dest': dest,\n",
    "    'dep': dep,\n",
    "    'type': travel_type,\n",
    "    'reason': reason,\n",
    "    'dates': dates,\n",
    "    'leave_add': leave_add,\n",
    "    'notes': notes,\n",
    "    'date': date\n",
    "}\n",
    "\n",
    "# Function to replace placeholders in the document\n",
    "def replace_placeholder(doc, target, replacement):\n",
    "    for paragraph in doc.paragraphs:\n",
    "        for run in paragraph.runs:\n",
    "            if target in run.text:\n",
    "                new_text = run.text.replace(target, replacement)\n",
    "                run.text = new_text\n",
    "\n",
    "# Iterate through fields and replace placeholders with values\n",
    "for field, value in fields.items():\n",
    "    replace_placeholder(doc, field, value)\n",
    "\n",
    "# Save the modified document\n",
    "doc.save('filled_document.docx')\n",
    "\n",
    "print(\"Document filled and saved as 'filled_document.docx'\")\n",
    "\n",
    "#timepass\n",
    "import subprocess\n",
    "import os\n",
    "subprocess.Popen([\"filled_document.docx\"], shell=True)\n",
    "input(\"Press Enter after you've closed the Excel file...\")\n",
    "os.remove(\"filled_document.docx\")"
   ]
  },
  {
   "cell_type": "code",
   "execution_count": null,
   "id": "ab3e1964-d367-4988-a4d1-6fbf9994d291",
   "metadata": {},
   "outputs": [],
   "source": [
    "cursor.reset()\n",
    "query = \"SELECT `from`, `to`, `with_permission_on`, `date_of_rejoin`, `total` FROM `el` WHERE id=\"+id+\"; \"\n",
    "cursor.execute(query)\n",
    "data2 = cursor.fetchall()\n",
    "data2\n",
    "data_el = [sublist + (\"el\",) for sublist in data2]\n",
    "\n",
    "cursor.reset()\n",
    "query = \"SELECT `from`, `to`, `medical_fittness_on`, `with_permission_on`, `doj`, `total` FROM `lop` WHERE id=\"+id+\"; \"\n",
    "cursor.execute(query)\n",
    "data3 = cursor.fetchall()\n",
    "data_lop = [sublist + (\"lop\",) for sublist in data3]\n",
    "\n",
    "cursor.reset()\n",
    "query = \"SELECT `from`, `to`, `medical_fittness_on`, `with_permission_on`, `doj`, `total` FROM `ml` WHERE id=\"+id+\"; \"\n",
    "cursor.execute(query)\n",
    "data4 = cursor.fetchall()\n",
    "data_ml = [sublist + (\"ml\",) for sublist in data4]\n",
    "\n",
    "cursor.reset()\n",
    "query = \"SELECT `from`, `to`, `medical_fittness_on`, `with_permission_on`, `doj`, `total` FROM `mtl` WHERE id=\"+id+\"; \"\n",
    "cursor.execute(query)\n",
    "data5 = cursor.fetchall()\n",
    "data_mtl = [sublist + (\"mtl\",) for sublist in data5]\n"
   ]
  },
  {
   "cell_type": "code",
   "execution_count": 80,
   "id": "581a6516-87f4-4642-aedc-b27273727d1e",
   "metadata": {},
   "outputs": [],
   "source": [
    "def getdata(type, id):\n",
    "    if type=='el':\n",
    "        cursor.reset()\n",
    "        query = \"SELECT `from`, `to`, `from_prefix`, `to_prefix`, `from_suffix`, `to_suffix`, `date_of_rejoin`, `total` FROM \"+type+\" WHERE id=\"+id+\"; \"\n",
    "        cursor.execute(query)\n",
    "        data_final = cursor.fetchall()\n",
    "        \n",
    "        on_permission = []\n",
    "        for i in data_final:\n",
    "            on_permission.append(with_permission_fun(i[2],i[3],i[4],i[5]))\n",
    "        remark = []\n",
    "        for i in data_final:\n",
    "            print(data[0][2],i[0].year)\n",
    "            remark.append(attendence_regsiter(data[0][2],i[0].year))\n",
    "        remark = [item[0] for sublist in remark for item in sublist]\n",
    "            \n",
    "        data_final_updated = []\n",
    "        for i,sublist in enumerate(data_final):\n",
    "            columns_to_keep = sublist[:2] + (on_permission[i],) + sublist[6:] + (remark[i],)\n",
    "            data_final_updated.append(columns_to_keep)\n",
    "        data_final_updated = [sublist + (type,) for sublist in data_final_updated]\n",
    "        return data_final_updated\n",
    "    else:\n",
    "        cursor.reset()\n",
    "        query = \"SELECT `from`,`to`,`total`, `medical_fittness_on`, `from_prefix`, `to_prefix`, `from_suffix`, `to_suffix`, `doj` FROM \"+type+\" WHERE id=\"+id+\";; \"\n",
    "        cursor.execute(query)\n",
    "        data_final = cursor.fetchall()\n",
    "        on_permission = []\n",
    "        for i in data_final:\n",
    "            on_permission.append(with_permission_fun(i[4],i[5],i[6],i[7]))\n",
    "        remark = []\n",
    "        for i in data_final:\n",
    "            print(data[0][2],i[0].year)\n",
    "            remark.append(attendence_regsiter(data[0][2],i[0].year))\n",
    "        remark = [item[0] for sublist in remark for item in sublist]\n",
    "        data_final_updated = []\n",
    "        for i,sublist in enumerate(data_final):\n",
    "            columns_to_keep = sublist[:4] + (on_permission[i],) + sublist[8:] + (remark[i],)\n",
    "            data_final_updated.append(columns_to_keep)\n",
    "        data_final_updated = [sublist + (type,) for sublist in data_final_updated]\n",
    "        return data_final_updated\n",
    "            \n",
    "        \n",
    "    "
   ]
  },
  {
   "cell_type": "code",
   "execution_count": null,
   "id": "d0840837-f540-4bd2-bb91-d3dd25e1f0f7",
   "metadata": {},
   "outputs": [],
   "source": []
  },
  {
   "cell_type": "code",
   "execution_count": 81,
   "id": "03f9f12a-97d6-45f3-9dab-ff66d1556970",
   "metadata": {},
   "outputs": [
    {
     "name": "stdout",
     "output_type": "stream",
     "text": [
      "CSE 2015\n",
      "CSE 2015\n",
      "CSE 2015\n",
      "CSE 2015\n",
      "CSE 2020\n",
      "CSE 2020\n",
      "CSE 2020\n",
      "CSE 2022\n",
      "CSE 2022\n",
      "CSE 2022\n"
     ]
    }
   ],
   "source": [
    "data_el = getdata('el','22015')\n",
    "data_ml = getdata('ml','22015')\n",
    "data_lop = getdata('lop','22015')\n",
    "data_mtl = getdata('mtl','22015')"
   ]
  },
  {
   "cell_type": "code",
   "execution_count": 94,
   "id": "747623c6-af33-499a-b80f-620ba13367fd",
   "metadata": {},
   "outputs": [],
   "source": [
    "data_ml = getdata('el','22015')"
   ]
  },
  {
   "cell_type": "code",
   "execution_count": 70,
   "id": "c36eaeaf-a6b0-492d-a2f6-f09c8be1a0d9",
   "metadata": {},
   "outputs": [
    {
     "data": {
      "text/plain": [
       "[(datetime.date(2015, 5, 4),\n",
       "  datetime.date(2015, 5, 8),\n",
       "  ['01-05-2015 to 03-05-2015 & 09-05-2015 to 10-05-2015'],\n",
       "  datetime.date(2015, 5, 11),\n",
       "  5,\n",
       "  'AURCT / AR / 2015/ 03 of 13',\n",
       "  'el'),\n",
       " (datetime.date(2015, 7, 7),\n",
       "  datetime.date(2015, 7, 11),\n",
       "  ['12-07-2015'],\n",
       "  datetime.date(2015, 7, 13),\n",
       "  5,\n",
       "  'AURCT / AR / 2015/ 03 of 13',\n",
       "  'el'),\n",
       " (datetime.date(2015, 8, 10),\n",
       "  datetime.date(2015, 8, 14),\n",
       "  ['08-08-2015 to 09-08-2015 & 15-08-2015 to 16-08-2015'],\n",
       "  datetime.date(2015, 8, 17),\n",
       "  5,\n",
       "  'AURCT / AR / 2015/ 03 of 13',\n",
       "  'el'),\n",
       " (datetime.date(2015, 9, 28),\n",
       "  datetime.date(2015, 10, 1),\n",
       "  ['27-09-2015 & 02-10-2015 to 04-10-2015'],\n",
       "  datetime.date(2015, 10, 5),\n",
       "  4,\n",
       "  'AURCT / AR / 2015/ 03 of 13',\n",
       "  'el'),\n",
       " (datetime.date(2020, 3, 11),\n",
       "  datetime.date(2020, 3, 14),\n",
       "  [],\n",
       "  None,\n",
       "  4,\n",
       "  'AURCT / AR / 2020 / 03 of 18 ',\n",
       "  'el'),\n",
       " (datetime.date(2020, 5, 19),\n",
       "  datetime.date(2020, 5, 23),\n",
       "  [],\n",
       "  None,\n",
       "  5,\n",
       "  'AURCT / AR / 2020 / 03 of 18 ',\n",
       "  'el'),\n",
       " (datetime.date(2020, 11, 5),\n",
       "  datetime.date(2020, 11, 11),\n",
       "  [],\n",
       "  datetime.date(2020, 11, 12),\n",
       "  7,\n",
       "  'AURCT / AR / 2020 / 03 of 18 ',\n",
       "  'el')]"
      ]
     },
     "execution_count": 70,
     "metadata": {},
     "output_type": "execute_result"
    }
   ],
   "source": [
    "data_el"
   ]
  },
  {
   "cell_type": "code",
   "execution_count": 82,
   "id": "d90c9bc9-17b0-4496-bd1c-f102000df448",
   "metadata": {},
   "outputs": [
    {
     "name": "stdout",
     "output_type": "stream",
     "text": [
      "(datetime.date(2015, 5, 4), datetime.date(2015, 5, 8), ['01-05-2015 to 03-05-2015 & 09-05-2015 to 10-05-2015'], datetime.date(2015, 5, 11), 5, 'AURCT / AR / 2015/ 03 of 13', 'el')\n",
      "(datetime.date(2015, 7, 7), datetime.date(2015, 7, 11), ['12-07-2015'], datetime.date(2015, 7, 13), 5, 'AURCT / AR / 2015/ 03 of 13', 'el')\n",
      "(datetime.date(2015, 8, 10), datetime.date(2015, 8, 14), ['08-08-2015 to 09-08-2015 & 15-08-2015 to 16-08-2015'], datetime.date(2015, 8, 17), 5, 'AURCT / AR / 2015/ 03 of 13', 'el')\n",
      "(datetime.date(2015, 9, 28), datetime.date(2015, 10, 1), ['27-09-2015 & 02-10-2015 to 04-10-2015'], datetime.date(2015, 10, 5), 4, 'AURCT / AR / 2015/ 03 of 13', 'el')\n",
      "(datetime.date(2020, 3, 11), datetime.date(2020, 3, 14), [], None, 4, 'AURCT / AR / 2020 / 03 of 18 ', 'el')\n",
      "(datetime.date(2020, 5, 19), datetime.date(2020, 5, 23), [], None, 5, 'AURCT / AR / 2020 / 03 of 18 ', 'el')\n",
      "(datetime.date(2020, 11, 5), datetime.date(2020, 11, 11), [], datetime.date(2020, 11, 12), 7, 'AURCT / AR / 2020 / 03 of 18 ', 'el')\n",
      "(datetime.date(2022, 3, 22), datetime.date(2022, 3, 27), 6, b'[\"2023-03-28\"]', [], datetime.date(2022, 3, 28), 'AURCT / AR / 2022 / 03 of 18 ', 'ml')\n",
      "(datetime.date(2022, 5, 4), datetime.date(2022, 5, 18), 15, b'[\"2022-05-19\"]', ['03-05-2022'], datetime.date(2022, 5, 19), 'AURCT / AR / 2022 / 03 of 18 ', 'ml')\n",
      "(datetime.date(2022, 10, 10), datetime.date(2022, 10, 16), 7, b'[\"2022-10-17\"]', ['09-10-2022'], datetime.date(2022, 10, 17), 'AURCT / AR / 2022 / 03 of 18 ', 'ml')\n"
     ]
    }
   ],
   "source": [
    "sorted_data = sorted(data_lop+data_el+data_ml+data_mtl, key=lambda x: x[0])\n",
    "for item in sorted_data:\n",
    "    print(item)"
   ]
  },
  {
   "cell_type": "code",
   "execution_count": 21,
   "id": "eb9c00d2-9fe0-482a-8466-1cc945a4f764",
   "metadata": {},
   "outputs": [
    {
     "data": {
      "text/plain": [
       "2022"
      ]
     },
     "execution_count": 21,
     "metadata": {},
     "output_type": "execute_result"
    }
   ],
   "source": [
    "data_ml[0][0].year"
   ]
  },
  {
   "cell_type": "code",
   "execution_count": 30,
   "id": "00f859f9-abb1-4e63-a5d5-aedd7a9478a5",
   "metadata": {},
   "outputs": [],
   "source": [
    "def attendence_regsiter(dep,year):\n",
    "    query = \"SELECT register_name FROM `attendance_register` WHERE department = %s AND year = %s;\"\n",
    "    cursor.execute(query, (dep, year))\n",
    "    data = cursor.fetchall()\n",
    "    return data"
   ]
  },
  {
   "cell_type": "code",
   "execution_count": 41,
   "id": "9c012db8-5c06-4484-8abf-f64c43839c84",
   "metadata": {},
   "outputs": [],
   "source": [
    "remark = []\n",
    "for i in sorted_data:\n",
    "    remark.append(attendence_regsiter(data[0][2],i[0].year))"
   ]
  },
  {
   "cell_type": "code",
   "execution_count": 42,
   "id": "14b4fdf1-fcd9-48d2-91b2-9f4b52d3f870",
   "metadata": {},
   "outputs": [],
   "source": [
    "remark = [list(item[0]) for item in remark]"
   ]
  },
  {
   "cell_type": "code",
   "execution_count": 44,
   "id": "0400588e-ffe7-4b4e-bf59-d552b0b2c6e9",
   "metadata": {},
   "outputs": [
    {
     "data": {
      "text/plain": [
       "['AURCT / AR / 2015/ 03 of 13']"
      ]
     },
     "execution_count": 44,
     "metadata": {},
     "output_type": "execute_result"
    }
   ],
   "source": [
    "remark[0]"
   ]
  },
  {
   "cell_type": "code",
   "execution_count": 45,
   "id": "7a631dfe-bd6a-417c-bff3-fc73ad7a4681",
   "metadata": {},
   "outputs": [
    {
     "data": {
      "text/plain": [
       "'CSE'"
      ]
     },
     "execution_count": 45,
     "metadata": {},
     "output_type": "execute_result"
    }
   ],
   "source": [
    "data[0][2]"
   ]
  },
  {
   "cell_type": "code",
   "execution_count": 61,
   "id": "ca46f0e9-14cb-4904-ac45-bf33099b8afd",
   "metadata": {},
   "outputs": [
    {
     "data": {
      "text/plain": [
       "['AURCT / AR / 2020 / 03 of 18 ']"
      ]
     },
     "execution_count": 61,
     "metadata": {},
     "output_type": "execute_result"
    }
   ],
   "source": [
    "data_el[-1][-1]"
   ]
  },
  {
   "cell_type": "code",
   "execution_count": null,
   "id": "31e44f66-e083-45eb-8b81-2916aa74eb7b",
   "metadata": {},
   "outputs": [],
   "source": []
  }
 ],
 "metadata": {
  "kernelspec": {
   "display_name": "Python 3 (ipykernel)",
   "language": "python",
   "name": "python3"
  },
  "language_info": {
   "codemirror_mode": {
    "name": "ipython",
    "version": 3
   },
   "file_extension": ".py",
   "mimetype": "text/x-python",
   "name": "python",
   "nbconvert_exporter": "python",
   "pygments_lexer": "ipython3",
   "version": "3.11.4"
  }
 },
 "nbformat": 4,
 "nbformat_minor": 5
}
