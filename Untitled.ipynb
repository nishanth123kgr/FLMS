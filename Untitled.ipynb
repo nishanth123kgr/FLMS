{
 "cells": [
  {
   "cell_type": "code",
   "execution_count": 16,
   "id": "29181d65-adbb-4230-b8a1-abb72209360a",
   "metadata": {},
   "outputs": [],
   "source": [
    "\n",
    "import pandas as pd\n",
    "import mysql.connector"
   ]
  },
  {
   "cell_type": "code",
   "execution_count": 17,
   "id": "29fb82d7-b7e1-4d5e-8621-92b63a6e212c",
   "metadata": {},
   "outputs": [],
   "source": [
    "host = 'localhost'\n",
    "user = 'root'\n",
    "password = ''\n",
    "database = 'facultyleavedb'"
   ]
  },
  {
   "cell_type": "code",
   "execution_count": 18,
   "id": "f916c5c5-e483-4715-b014-228008c2ad71",
   "metadata": {},
   "outputs": [],
   "source": [
    "conn = mysql.connector.connect(host=host, user=user, password=password, database=database)\n",
    "cursor = conn.cursor()"
   ]
  },
  {
   "cell_type": "code",
   "execution_count": 6,
   "id": "31c74417-674b-4337-b5f3-ab3634625e46",
   "metadata": {},
   "outputs": [],
   "source": [
    "query = \"SELECT * FROM `staff`\"\n",
    "cursor.execute(query)\n",
    "data = cursor.fetchall()\n"
   ]
  },
  {
   "cell_type": "code",
   "execution_count": 7,
   "id": "b68b028e-b056-44ac-9482-7c4a9d5a6052",
   "metadata": {},
   "outputs": [
    {
     "data": {
      "text/plain": [
       "[(20003, 'Dr. B. Jeyanthi', 'SNH', datetime.date(2008, 9, 1)),\n",
       " (21002, 'Dr. J. Thirumal', 'CIVIL', datetime.date(2008, 9, 1)),\n",
       " (21003, 'Mrs. G. Devi', 'CIVIL', datetime.date(2009, 8, 5)),\n",
       " (21006, 'Mrs. C. Jayalakshmi', 'CIVIL', datetime.date(2009, 8, 19)),\n",
       " (21010, 'Dr. S. Adish Kumar', 'CIVIL', datetime.date(2009, 11, 2)),\n",
       " (22003, 'Mrs. T. Kavitha', 'CSE', datetime.date(2009, 8, 18)),\n",
       " (22006, 'Dr. E. Golden Julie', 'CSE', datetime.date(2009, 8, 25)),\n",
       " (22007, 'Dr. C. Akila', 'CSE', datetime.date(2009, 8, 31)),\n",
       " (22009, 'Dr. J. Roselin', 'CSE', datetime.date(2009, 8, 31)),\n",
       " (22010, 'Dr. J. Jesu Vedha Nayahi', 'CSE', datetime.date(2009, 8, 31)),\n",
       " (22015, 'Dr. S. Sabena', 'CSE', datetime.date(2010, 8, 19)),\n",
       " (22019, 'Dr. M. Nava Barathy', 'CSE', datetime.date(2010, 8, 23)),\n",
       " (22021, 'Dr. T. Brinda', 'CSE', datetime.date(2010, 9, 9)),\n",
       " (23002, 'Dr. L. Sheela', 'EEE', datetime.date(2008, 9, 1)),\n",
       " (24001, 'Dr. S. Suja Priyadharsini ', 'ECE', datetime.date(2008, 9, 1)),\n",
       " (24003, 'Dr. K. Usha Kingsly Devi', 'ECE', datetime.date(2008, 9, 4)),\n",
       " (24007, 'Dr. M. Malleswaran ', 'ECE', datetime.date(2009, 9, 2)),\n",
       " (25001,\n",
       "  'Dr. N. Shenbaga Vinayaga Moorthi',\n",
       "  'MECH',\n",
       "  datetime.date(2008, 9, 5)),\n",
       " (25005, 'Dr. U. Arunachalam', 'MECH', datetime.date(2009, 8, 26)),\n",
       " (25007, 'Dr. P. Arul Franco', 'MECH', datetime.date(2009, 10, 28)),\n",
       " (25009, 'Dr. S. Rajakumar', 'MECH', datetime.date(2009, 10, 28)),\n",
       " (25010, 'Dr. K. Karuppasamy', 'MECH', datetime.date(2009, 10, 29)),\n",
       " (25012, 'Dr. M. S. Starvin', 'MECH', datetime.date(2009, 10, 30)),\n",
       " (25013, 'Dr. T. Velmurugan', 'MECH', datetime.date(2009, 10, 30)),\n",
       " (25019, 'Dr. J. Bruce Ralphin Rose ', 'MECH', datetime.date(2010, 8, 20)),\n",
       " (25030, 'Dr. K. Mathi', 'MECH', datetime.date(2010, 8, 30)),\n",
       " (26001, 'Dr. S. Silas Sargunam ', 'MS', datetime.date(2008, 9, 1)),\n",
       " (27002, 'Mrs. Vinolia Anandan  ', 'CA', datetime.date(2009, 8, 31)),\n",
       " (27003, 'Dr. A. Radhakrishnan', 'IT', datetime.date(2009, 9, 3)),\n",
       " (29007, 'Dr. R. Ramasubramanian', 'SNH', datetime.date(2010, 8, 26)),\n",
       " (30002, 'Dr. M. Subramanian  ', 'SNH', datetime.date(2008, 9, 1)),\n",
       " (30003, 'Dr. R. Mohan Raj', 'SNH', datetime.date(2008, 9, 1)),\n",
       " (30555, 'Sharon Joseph', 'CSE', datetime.date(2023, 8, 29))]"
      ]
     },
     "execution_count": 7,
     "metadata": {},
     "output_type": "execute_result"
    }
   ],
   "source": [
    "data"
   ]
  },
  {
   "cell_type": "code",
   "execution_count": 9,
   "id": "225faec1-ec66-40d2-b65d-e7be0ef05446",
   "metadata": {},
   "outputs": [],
   "source": [
    "df = pd.DataFrame(data, columns=['ID', 'Name', 'department',\"dataofjoin\"])"
   ]
  },
  {
   "cell_type": "code",
   "execution_count": 23,
   "id": "bdb359ae-f8fc-4897-8b39-8cf51e8ed870",
   "metadata": {},
   "outputs": [],
   "source": [
    "df =  pd.DataFrame()"
   ]
  },
  {
   "cell_type": "code",
   "execution_count": 15,
   "id": "45a1341b-c58c-4e17-b71f-a269ff5e3d93",
   "metadata": {},
   "outputs": [
    {
     "name": "stdout",
     "output_type": "stream",
     "text": [
      "Data has been inserted and exported to data.xlsx\n",
      "Data has been inserted and exported to data.xlsx\n"
     ]
    }
   ],
   "source": [
    "import pandas as pd\n",
    "\n",
    "# Sample data to insert\n",
    "new_data_1 = {'Name': 'New Person', 'Age': 25}\n",
    "new_data_2 = {'Name': 'Maheshwar', 'Age': 30}\n",
    "\n",
    "# Load the existing Excel file into a DataFrame\n",
    "excel_filename = 'data.xlsx'\n",
    "#\n",
    "\n",
    "# Define the index where you want to insert the new data\n",
    "insert_index_1 = 2\n",
    "insert_index_2 = 3\n",
    "\n",
    "# Insert new data at specified indices\n",
    "df = pd.concat([df.loc[:insert_index_1 - 1], pd.DataFrame([new_data_1]), df.loc[insert_index_1:]]).reset_index(drop=True)\n",
    "df = pd.concat([df.loc[:insert_index_2 - 1], pd.DataFrame([new_data_2]), df.loc[insert_index_2:]]).reset_index(drop=True)\n",
    "\n",
    "# Save the modified DataFrame to Excel\n",
    "df.to_excel(excel_filename, index=False)\n",
    "\n",
    "print(f\"Data has been inserted and exported to {excel_filename}\")\n",
    "\n",
    "print(f\"Data has been inserted and exported to {excel_filename}\")\n"
   ]
  },
  {
   "cell_type": "code",
   "execution_count": 24,
   "id": "0d0e0949-bfeb-400f-91bd-4cc8789bfe7d",
   "metadata": {},
   "outputs": [
    {
     "name": "stdout",
     "output_type": "stream",
     "text": [
      "Data has been inserted and exported to data.xlsx\n"
     ]
    }
   ],
   "source": [
    "import pandas as pd\n",
    "\n",
    "\n",
    "new_data = {'ID': 999, 'Name': 'New Person', 'Age': 25}\n",
    "\n",
    "\n",
    "excel_filename = 'data.xlsx'\n",
    "\n",
    "\n",
    "insert_index = 2  \n",
    "\n",
    "df = pd.concat([df.iloc[:insert_index], pd.DataFrame([new_data]), df.iloc[insert_index:]]).reset_index(drop=True)\n",
    "\n",
    "\n",
    "num_columns = 3 \n",
    "\n",
    "\n",
    "new_row = [None] * num_columns\n",
    "df.loc[insert_index] = new_row\n",
    "\n",
    "# Save the modified DataFrame to Excel\n",
    "df.to_excel(excel_filename, index=False)\n",
    "\n",
    "print(f\"Data has been inserted and exported to {excel_filename}\")\n"
   ]
  },
  {
   "cell_type": "code",
   "execution_count": 29,
   "id": "66afcf91-86bf-432c-9cf9-b07a2235eb0c",
   "metadata": {},
   "outputs": [],
   "source": [
    "import xlsxwriter\n",
    "workbook = xlsxwriter.Workbook('Book2.xlsx')\n",
    "worksheet = workbook.add_worksheet()\n",
    " \n",
    "bold = workbook.add_format({'bold': True})\n",
    " \n",
    "worksheet.write('A1', 'Name', bold)\n",
    "worksheet.write('B1', 'Department', bold)\n",
    "row = 1\n",
    "col = 0\n",
    " \n",
    "data = ( \n",
    "    ['Rajendra', 'Hi, You are on SQLShack.com, refer to all SQL Server related contents.'], \n",
    "    ['Kashish','How do you get to see a physiotherapist?'], \n",
    "    ['Arun', 'I am a student of class 1 in Bookburn primary school.'], \n",
    "    ['Rohan','Are you a Bank Manager?'], \n",
    ") \n",
    " \n",
    "worksheet.set_column('B:B', 60)\n",
    " \n",
    "for name, score in (data): \n",
    "    worksheet.write(row, col, name) \n",
    "    worksheet.write(row, col + 1, score) \n",
    "    row += 1\n",
    "workbook.close()\n"
   ]
  },
  {
   "cell_type": "code",
   "execution_count": 26,
   "id": "6e968dad-6381-4179-aa29-dff947987ffd",
   "metadata": {},
   "outputs": [
    {
     "name": "stdout",
     "output_type": "stream",
     "text": [
      "Collecting xlsxwriter\n",
      "  Downloading XlsxWriter-3.1.2-py3-none-any.whl (153 kB)\n",
      "                                              0.0/153.0 kB ? eta -:--:--\n",
      "     -------                                 30.7/153.0 kB 1.3 MB/s eta 0:00:01\n",
      "     ---------                             41.0/153.0 kB 393.8 kB/s eta 0:00:01\n",
      "     ----------------------                92.2/153.0 kB 751.6 kB/s eta 0:00:01\n",
      "     ----------------------------         122.9/153.0 kB 654.9 kB/s eta 0:00:01\n",
      "     ------------------------------------ 153.0/153.0 kB 759.5 kB/s eta 0:00:00\n",
      "Installing collected packages: xlsxwriter\n",
      "Successfully installed xlsxwriter-3.1.2\n",
      "Note: you may need to restart the kernel to use updated packages.\n"
     ]
    },
    {
     "name": "stderr",
     "output_type": "stream",
     "text": [
      "\n",
      "[notice] A new release of pip is available: 23.1.2 -> 23.2.1\n",
      "[notice] To update, run: python.exe -m pip install --upgrade pip\n"
     ]
    }
   ],
   "source": [
    "pip install xlsxwriter\n"
   ]
  },
  {
   "cell_type": "code",
   "execution_count": 4,
   "id": "6672ac28-fc31-4ef6-8b4f-357a0c3eca7d",
   "metadata": {},
   "outputs": [
    {
     "data": {
      "text/plain": [
       "0"
      ]
     },
     "execution_count": 4,
     "metadata": {},
     "output_type": "execute_result"
    }
   ],
   "source": [
    "import xlsxwriter\n",
    "workbook = xlsxwriter.Workbook('Book2.xlsx')\n",
    "worksheet = workbook.add_worksheet()\n",
    "worksheet.write('A1', 'Name')"
   ]
  },
  {
   "cell_type": "code",
   "execution_count": 19,
   "id": "6691dc85-e93e-440d-ade2-8dcf6c592be9",
   "metadata": {},
   "outputs": [],
   "source": [
    "import xlsxwriter\n",
    "workbook = xlsxwriter.Workbook('Book.xlsx')\n",
    "worksheet = workbook.add_worksheet()\n",
    "worksheet.write('A1', 'Welcome')\n",
    "merge_format = workbook.add_format({\n",
    "    'align': 'center',\n",
    "    'valign': 'vcenter',\n",
    "    'border': 1,\n",
    "    'border_color': 'black',\n",
    "    'text_wrap': True,\n",
    "    'shrink': True,\n",
    "    'indent': 1\n",
    "})\n",
    "worksheet.merge_range(0, 1, 0, 3, 'Data Spanning Multiple Columns', workbook.add_format({'align': 'center'}))\n",
    "workbook.close()"
   ]
  },
  {
   "cell_type": "code",
   "execution_count": null,
   "id": "5fc387b4-4ea4-47f7-8c03-83e568d33ec0",
   "metadata": {},
   "outputs": [],
   "source": []
  }
 ],
 "metadata": {
  "kernelspec": {
   "display_name": "Python 3 (ipykernel)",
   "language": "python",
   "name": "python3"
  },
  "language_info": {
   "codemirror_mode": {
    "name": "ipython",
    "version": 3
   },
   "file_extension": ".py",
   "mimetype": "text/x-python",
   "name": "python",
   "nbconvert_exporter": "python",
   "pygments_lexer": "ipython3",
   "version": "3.11.4"
  }
 },
 "nbformat": 4,
 "nbformat_minor": 5
}
